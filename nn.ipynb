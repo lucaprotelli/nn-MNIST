{
 "cells": [
  {
   "cell_type": "markdown",
   "metadata": {},
   "source": [
    "### Semplice rete neurale per MNIST da zero\n",
    "\n",
    "Questa progetto mostra come costruire e addestrare una rete neurale semplice (1 hidden layer) per classificare le cifre MNIST, implementando tutto da zero in NumPy."
   ]
  },
  {
   "cell_type": "markdown",
   "metadata": {},
   "source": [
    "##### 1. Import delle librerie e caricamento dati\n",
    "Importo le librerie fondamentali e carico il dataset MNIST per il training."
   ]
  },
  {
   "cell_type": "code",
   "execution_count": 1,
   "metadata": {
    "_cell_guid": "b1076dfc-b9ad-4769-8c92-a6c4dae69d19",
    "_uuid": "8f2839f25d086af736a60e9eeb907d3b93b6e0e5",
    "execution": {
     "iopub.execute_input": "2025-04-23T08:55:40.335157Z",
     "iopub.status.busy": "2025-04-23T08:55:40.334740Z",
     "iopub.status.idle": "2025-04-23T08:55:42.668027Z",
     "shell.execute_reply": "2025-04-23T08:55:42.667124Z",
     "shell.execute_reply.started": "2025-04-23T08:55:40.335121Z"
    },
    "trusted": true
   },
   "outputs": [],
   "source": [
    "import numpy as np  # Calcolo numerico\n",
    "import pandas as pd  # Gestione dati\n",
    "from matplotlib import pyplot as plt  # Visualizzazione immagini\n",
    "\n",
    "# Carica il dataset MNIST (train.csv: immagini + etichette)\n",
    "data = pd.read_csv('train.csv')"
   ]
  },
  {
   "cell_type": "markdown",
   "metadata": {},
   "source": [
    "##### 2. Preprocessing dei dati\n",
    "Divido i dati in training/dev set, normalizzo i pixel e separo immagini e labels."
   ]
  },
  {
   "cell_type": "code",
   "execution_count": 2,
   "metadata": {
    "execution": {
     "iopub.execute_input": "2025-04-23T08:55:42.670767Z",
     "iopub.status.busy": "2025-04-23T08:55:42.670425Z",
     "iopub.status.idle": "2025-04-23T08:55:43.398199Z",
     "shell.execute_reply": "2025-04-23T08:55:43.397216Z",
     "shell.execute_reply.started": "2025-04-23T08:55:42.670736Z"
    },
    "trusted": true
   },
   "outputs": [],
   "source": [
    "data = np.array(data)\n",
    "m, n = data.shape  # m: numero esempi, n: 785 (784 pixel + 1 label)\n",
    "np.random.shuffle(data)  # Mescola i dati per evitare bias\n",
    "\n",
    "# Set di sviluppo (dev): primi 1000 esempi\n",
    "data_dev = data[0:1000].T\n",
    "Y_dev = data_dev[0]  # Etichette\n",
    "X_dev = data_dev[1:n]  # Immagini\n",
    "X_dev = X_dev / 255.  # Normalizza pixel in [0,1]\n",
    "\n",
    "# Set di training: tutti gli altri\n",
    "data_train = data[1000:m].T\n",
    "Y_train = data_train[0]\n",
    "X_train = data_train[1:n]\n",
    "X_train = X_train / 255.  # Normalizza pixel\n",
    "_, m_train = X_train.shape  # m_train: numero esempi di training"
   ]
  },
  {
   "cell_type": "code",
   "execution_count": 3,
   "metadata": {
    "execution": {
     "iopub.execute_input": "2025-04-23T08:55:43.399841Z",
     "iopub.status.busy": "2025-04-23T08:55:43.399556Z",
     "iopub.status.idle": "2025-04-23T08:55:43.409012Z",
     "shell.execute_reply": "2025-04-23T08:55:43.408143Z",
     "shell.execute_reply.started": "2025-04-23T08:55:43.399812Z"
    },
    "trusted": true
   },
   "outputs": [
    {
     "data": {
      "text/plain": [
       "array([6, 1, 0, ..., 4, 0, 0], shape=(41000,))"
      ]
     },
     "execution_count": 3,
     "metadata": {},
     "output_type": "execute_result"
    }
   ],
   "source": [
    "Y_train"
   ]
  },
  {
   "cell_type": "markdown",
   "metadata": {},
   "source": [
    "##### 3. Definizione della rete neurale e funzioni di supporto\n",
    "La rete neurale avrà un’architettura semplice a due layers. Il layer di input $a^{[0]}$ avrà 784 unità corrispondenti ai 784 pixel di ciascuna immagine di input 28x28. Un layer nascosto $a^{[1]}$ avrà 10 unità con attivazione ReLU, e infine il layer di output $a^{[2]}$ avrà 10 unità corrispondenti alle dieci classi di cifre con attivazione softmax.\n",
    "\n",
    "**Forward propagation**\n",
    "\n",
    "$$Z^{[1]} = W^{[1]} X + b^{[1]}$$\n",
    "$$A^{[1]} = g_{\\text{ReLU}}(Z^{[1]}))$$\n",
    "$$Z^{[2]} = W^{[2]} A^{[1]} + b^{[2]}$$\n",
    "$$A^{[2]} = g_{\\text{softmax}}(Z^{[2]})$$\n",
    "\n",
    "**Backward propagation**\n",
    "\n",
    "$$dZ^{[2]} = A^{[2]} - Y$$\n",
    "$$dW^{[2]} = \\frac{1}{m} dZ^{[2]} A^{[1]T}$$\n",
    "$$dB^{[2]} = \\frac{1}{m} \\Sigma {dZ^{[2]}}$$\n",
    "$$dZ^{[1]} = W^{[2]T} dZ^{[2]} .* g^{[1]\\prime} (z^{[1]})$$\n",
    "$$dW^{[1]} = \\frac{1}{m} dZ^{[1]} A^{[0]T}$$\n",
    "$$dB^{[1]} = \\frac{1}{m} \\Sigma {dZ^{[1]}}$$\n",
    "\n",
    "**Parameter updates**\n",
    "\n",
    "$$W^{[2]} := W^{[2]} - \\alpha dW^{[2]}$$\n",
    "$$b^{[2]} := b^{[2]} - \\alpha db^{[2]}$$\n",
    "$$W^{[1]} := W^{[1]} - \\alpha dW^{[1]}$$\n",
    "$$b^{[1]} := b^{[1]} - \\alpha db^{[1]}$$\n",
    "\n",
    "**Vars and shapes**\n",
    "\n",
    "Forward prop\n",
    "\n",
    "- $A^{[0]} = X$: 784 x m\n",
    "- $Z^{[1]} \\sim A^{[1]}$: 10 x m\n",
    "- $W^{[1]}$: 10 x 784 (as $W^{[1]} A^{[0]} \\sim Z^{[1]}$)\n",
    "- $B^{[1]}$: 10 x 1\n",
    "- $Z^{[2]} \\sim A^{[2]}$: 10 x m\n",
    "- $W^{[1]}$: 10 x 10 (as $W^{[2]} A^{[1]} \\sim Z^{[2]}$)\n",
    "- $B^{[2]}$: 10 x 1\n",
    "\n",
    "Backprop\n",
    "\n",
    "- $dZ^{[2]}$: 10 x m ($~A^{[2]}$)\n",
    "- $dW^{[2]}$: 10 x 10\n",
    "- $dB^{[2]}$: 10 x 1\n",
    "- $dZ^{[1]}$: 10 x m ($~A^{[1]}$)\n",
    "- $dW^{[1]}$: 10 x 10\n",
    "- $dB^{[1]}$: 10 x 1"
   ]
  },
  {
   "cell_type": "code",
   "execution_count": 4,
   "metadata": {
    "execution": {
     "iopub.execute_input": "2025-04-23T08:55:43.411302Z",
     "iopub.status.busy": "2025-04-23T08:55:43.410864Z",
     "iopub.status.idle": "2025-04-23T08:55:43.428085Z",
     "shell.execute_reply": "2025-04-23T08:55:43.427167Z",
     "shell.execute_reply.started": "2025-04-23T08:55:43.411238Z"
    },
    "trusted": true
   },
   "outputs": [],
   "source": [
    "# Inizializza i pesi e bias per i due strati\n",
    "def init_params():\n",
    "    W1 = np.random.rand(10, 784) - 0.5  # Pesi hidden layer\n",
    "    b1 = np.random.rand(10, 1) - 0.5    # Bias hidden layer\n",
    "    W2 = np.random.rand(10, 10) - 0.5   # Pesi output layer\n",
    "    b2 = np.random.rand(10, 1) - 0.5    # Bias output layer\n",
    "    return W1, b1, W2, b2\n",
    "\n",
    "# Funzione di attivazione ReLU\n",
    "def ReLU(Z):\n",
    "    return np.maximum(Z, 0)\n",
    "\n",
    "# Funzione di attivazione softmax (output layer)\n",
    "def softmax(Z):\n",
    "    A = np.exp(Z) / sum(np.exp(Z))\n",
    "    return A\n",
    "\n",
    "# Forward propagation: calcola output e attivazioni\n",
    "def forward_prop(W1, b1, W2, b2, X):\n",
    "    Z1 = W1.dot(X) + b1\n",
    "    A1 = ReLU(Z1)\n",
    "    Z2 = W2.dot(A1) + b2\n",
    "    A2 = softmax(Z2)\n",
    "    return Z1, A1, Z2, A2\n",
    "\n",
    "# Derivata della ReLU (per il backprop)\n",
    "def ReLU_deriv(Z):\n",
    "    return Z > 0\n",
    "\n",
    "# Trasforma le etichette in vettori one-hot\n",
    "def one_hot(Y):\n",
    "    one_hot_Y = np.zeros((Y.size, Y.max() + 1))\n",
    "    one_hot_Y[np.arange(Y.size), Y] = 1\n",
    "    one_hot_Y = one_hot_Y.T\n",
    "    return one_hot_Y\n",
    "\n",
    "# Backward propagation: calcola i gradienti\n",
    "def backward_prop(Z1, A1, Z2, A2, W1, W2, X, Y):\n",
    "    one_hot_Y = one_hot(Y)\n",
    "    dZ2 = A2 - one_hot_Y\n",
    "    dW2 = 1 / m * dZ2.dot(A1.T)\n",
    "    db2 = 1 / m * np.sum(dZ2)\n",
    "    dZ1 = W2.T.dot(dZ2) * ReLU_deriv(Z1)\n",
    "    dW1 = 1 / m * dZ1.dot(X.T)\n",
    "    db1 = 1 / m * np.sum(dZ1)\n",
    "    return dW1, db1, dW2, db2\n",
    "\n",
    "# Aggiorna i parametri usando il gradiente e il learning rate\n",
    "def update_params(W1, b1, W2, b2, dW1, db1, dW2, db2, alpha):\n",
    "    W1 = W1 - alpha * dW1\n",
    "    b1 = b1 - alpha * db1    \n",
    "    W2 = W2 - alpha * dW2  \n",
    "    b2 = b2 - alpha * db2    \n",
    "    return W1, b1, W2, b2"
   ]
  },
  {
   "cell_type": "markdown",
   "metadata": {},
   "source": [
    "##### 4. Funzioni di valutazione e training\n",
    "Definisco le funzioni per calcolare predizioni, accuratezza e per eseguire il ciclo di training (gradient descent)."
   ]
  },
  {
   "cell_type": "code",
   "execution_count": 5,
   "metadata": {
    "execution": {
     "iopub.execute_input": "2025-04-23T08:55:43.431304Z",
     "iopub.status.busy": "2025-04-23T08:55:43.430886Z",
     "iopub.status.idle": "2025-04-23T08:55:43.442503Z",
     "shell.execute_reply": "2025-04-23T08:55:43.441402Z",
     "shell.execute_reply.started": "2025-04-23T08:55:43.431239Z"
    },
    "trusted": true
   },
   "outputs": [],
   "source": [
    "# Restituisce la classe con probabilità massima per ogni esempio\n",
    "def get_predictions(A2):\n",
    "    return np.argmax(A2, 0)\n",
    "\n",
    "# Calcola l'accuratezza delle predizioni rispetto alle etichette reali\n",
    "def get_accuracy(predictions, Y):\n",
    "    print(predictions, Y)\n",
    "    return np.sum(predictions == Y) / Y.size\n",
    "\n",
    "# Ciclo di training: gradient descent\n",
    "def gradient_descent(X, Y, alpha, iterations):\n",
    "    W1, b1, W2, b2 = init_params()\n",
    "    for i in range(iterations):\n",
    "        Z1, A1, Z2, A2 = forward_prop(W1, b1, W2, b2, X)\n",
    "        dW1, db1, dW2, db2 = backward_prop(Z1, A1, Z2, A2, W1, W2, X, Y)\n",
    "        W1, b1, W2, b2 = update_params(W1, b1, W2, b2, dW1, db1, dW2, db2, alpha)\n",
    "        if i % 10 == 0:\n",
    "            print(\"Iteration: \", i)\n",
    "            predictions = get_predictions(A2)\n",
    "            print(get_accuracy(predictions, Y))\n",
    "    return W1, b1, W2, b2"
   ]
  },
  {
   "cell_type": "code",
   "execution_count": 6,
   "metadata": {
    "execution": {
     "iopub.execute_input": "2025-04-23T08:55:43.444498Z",
     "iopub.status.busy": "2025-04-23T08:55:43.444160Z",
     "iopub.status.idle": "2025-04-23T08:56:25.430226Z",
     "shell.execute_reply": "2025-04-23T08:56:25.429395Z",
     "shell.execute_reply.started": "2025-04-23T08:55:43.444467Z"
    },
    "trusted": true
   },
   "outputs": [
    {
     "name": "stdout",
     "output_type": "stream",
     "text": [
      "Iteration:  0\n",
      "[8 8 8 ... 1 5 8] [6 1 0 ... 4 0 0]\n",
      "0.1\n",
      "Iteration:  10\n",
      "[7 9 9 ... 7 3 3] [6 1 0 ... 4 0 0]\n",
      "0.20680487804878048\n",
      "Iteration:  20\n",
      "[7 9 3 ... 4 3 3] [6 1 0 ... 4 0 0]\n",
      "0.2693658536585366\n",
      "Iteration:  30\n",
      "[7 4 3 ... 4 3 3] [6 1 0 ... 4 0 0]\n",
      "0.34058536585365856\n",
      "Iteration:  40\n",
      "[7 4 3 ... 4 3 3] [6 1 0 ... 4 0 0]\n",
      "0.41641463414634144\n",
      "Iteration:  50\n",
      "[7 4 3 ... 4 3 3] [6 1 0 ... 4 0 0]\n",
      "0.47492682926829266\n",
      "Iteration:  60\n",
      "[7 4 3 ... 4 3 3] [6 1 0 ... 4 0 0]\n",
      "0.5177804878048781\n",
      "Iteration:  70\n",
      "[7 2 3 ... 4 3 5] [6 1 0 ... 4 0 0]\n",
      "0.5541951219512196\n",
      "Iteration:  80\n",
      "[6 1 5 ... 4 3 5] [6 1 0 ... 4 0 0]\n",
      "0.5834390243902439\n",
      "Iteration:  90\n",
      "[6 1 5 ... 4 3 5] [6 1 0 ... 4 0 0]\n",
      "0.6072439024390244\n",
      "Iteration:  100\n",
      "[6 1 5 ... 4 3 5] [6 1 0 ... 4 0 0]\n",
      "0.6278780487804878\n",
      "Iteration:  110\n",
      "[6 1 5 ... 4 3 5] [6 1 0 ... 4 0 0]\n",
      "0.6463658536585366\n",
      "Iteration:  120\n",
      "[6 1 5 ... 4 3 5] [6 1 0 ... 4 0 0]\n",
      "0.661609756097561\n",
      "Iteration:  130\n",
      "[6 1 5 ... 4 0 5] [6 1 0 ... 4 0 0]\n",
      "0.675609756097561\n",
      "Iteration:  140\n",
      "[6 1 5 ... 4 0 5] [6 1 0 ... 4 0 0]\n",
      "0.6876829268292682\n",
      "Iteration:  150\n",
      "[6 1 5 ... 4 0 5] [6 1 0 ... 4 0 0]\n",
      "0.6992195121951219\n",
      "Iteration:  160\n",
      "[6 1 5 ... 4 0 5] [6 1 0 ... 4 0 0]\n",
      "0.7091463414634146\n",
      "Iteration:  170\n",
      "[6 1 0 ... 4 0 5] [6 1 0 ... 4 0 0]\n",
      "0.7191463414634146\n",
      "Iteration:  180\n",
      "[6 1 0 ... 4 0 5] [6 1 0 ... 4 0 0]\n",
      "0.729\n",
      "Iteration:  190\n",
      "[6 1 0 ... 4 0 5] [6 1 0 ... 4 0 0]\n",
      "0.7378048780487805\n",
      "Iteration:  200\n",
      "[6 1 0 ... 4 0 5] [6 1 0 ... 4 0 0]\n",
      "0.746390243902439\n",
      "Iteration:  210\n",
      "[6 1 0 ... 4 0 5] [6 1 0 ... 4 0 0]\n",
      "0.7542926829268293\n",
      "Iteration:  220\n",
      "[6 1 0 ... 4 0 5] [6 1 0 ... 4 0 0]\n",
      "0.7621219512195122\n",
      "Iteration:  230\n",
      "[6 1 0 ... 4 0 5] [6 1 0 ... 4 0 0]\n",
      "0.7689268292682927\n",
      "Iteration:  240\n",
      "[6 1 0 ... 4 0 5] [6 1 0 ... 4 0 0]\n",
      "0.7755609756097561\n",
      "Iteration:  250\n",
      "[6 1 0 ... 4 0 5] [6 1 0 ... 4 0 0]\n",
      "0.7817560975609756\n",
      "Iteration:  260\n",
      "[6 1 0 ... 4 0 5] [6 1 0 ... 4 0 0]\n",
      "0.787\n",
      "Iteration:  270\n",
      "[6 1 0 ... 4 0 5] [6 1 0 ... 4 0 0]\n",
      "0.7922926829268293\n",
      "Iteration:  280\n",
      "[6 1 0 ... 4 0 5] [6 1 0 ... 4 0 0]\n",
      "0.797\n",
      "Iteration:  290\n",
      "[6 1 0 ... 4 0 5] [6 1 0 ... 4 0 0]\n",
      "0.802219512195122\n",
      "Iteration:  300\n",
      "[6 1 0 ... 4 0 5] [6 1 0 ... 4 0 0]\n",
      "0.8057804878048781\n",
      "Iteration:  310\n",
      "[6 1 0 ... 4 0 5] [6 1 0 ... 4 0 0]\n",
      "0.8088048780487805\n",
      "Iteration:  320\n",
      "[6 1 0 ... 4 0 0] [6 1 0 ... 4 0 0]\n",
      "0.8121707317073171\n",
      "Iteration:  330\n",
      "[6 1 0 ... 4 0 0] [6 1 0 ... 4 0 0]\n",
      "0.8158048780487804\n",
      "Iteration:  340\n",
      "[6 1 0 ... 4 0 0] [6 1 0 ... 4 0 0]\n",
      "0.8192195121951219\n",
      "Iteration:  350\n",
      "[6 1 0 ... 4 0 0] [6 1 0 ... 4 0 0]\n",
      "0.8221219512195121\n",
      "Iteration:  360\n",
      "[6 1 0 ... 4 0 0] [6 1 0 ... 4 0 0]\n",
      "0.8248292682926829\n",
      "Iteration:  370\n",
      "[6 1 0 ... 4 0 0] [6 1 0 ... 4 0 0]\n",
      "0.8277560975609756\n",
      "Iteration:  380\n",
      "[6 1 0 ... 4 0 0] [6 1 0 ... 4 0 0]\n",
      "0.830390243902439\n",
      "Iteration:  390\n",
      "[6 1 0 ... 4 0 0] [6 1 0 ... 4 0 0]\n",
      "0.8327560975609756\n",
      "Iteration:  400\n",
      "[6 1 0 ... 4 0 0] [6 1 0 ... 4 0 0]\n",
      "0.8347560975609756\n",
      "Iteration:  410\n",
      "[6 1 0 ... 4 0 0] [6 1 0 ... 4 0 0]\n",
      "0.8370975609756097\n",
      "Iteration:  420\n",
      "[6 1 0 ... 4 0 0] [6 1 0 ... 4 0 0]\n",
      "0.8392195121951219\n",
      "Iteration:  430\n",
      "[6 1 0 ... 4 0 0] [6 1 0 ... 4 0 0]\n",
      "0.8410731707317073\n",
      "Iteration:  440\n",
      "[6 1 0 ... 4 0 0] [6 1 0 ... 4 0 0]\n",
      "0.8430975609756097\n",
      "Iteration:  450\n",
      "[6 1 0 ... 4 0 0] [6 1 0 ... 4 0 0]\n",
      "0.8444878048780488\n",
      "Iteration:  460\n",
      "[6 1 0 ... 4 0 0] [6 1 0 ... 4 0 0]\n",
      "0.8464634146341463\n",
      "Iteration:  470\n",
      "[6 1 0 ... 4 0 0] [6 1 0 ... 4 0 0]\n",
      "0.8484146341463414\n",
      "Iteration:  480\n",
      "[6 1 0 ... 4 0 0] [6 1 0 ... 4 0 0]\n",
      "0.8503658536585366\n",
      "Iteration:  490\n",
      "[6 1 0 ... 4 0 0] [6 1 0 ... 4 0 0]\n",
      "0.852\n"
     ]
    }
   ],
   "source": [
    "W1, b1, W2, b2 = gradient_descent(X_train, Y_train, 0.10, 500)"
   ]
  },
  {
   "cell_type": "markdown",
   "metadata": {},
   "source": [
    "~85% accuracy on training set."
   ]
  },
  {
   "cell_type": "markdown",
   "metadata": {},
   "source": [
    "##### 5. Test e visualizzazione delle predizioni\n",
    "Funzioni per testare la rete su singole immagini e visualizzare il risultato."
   ]
  },
  {
   "cell_type": "code",
   "execution_count": 7,
   "metadata": {
    "execution": {
     "iopub.execute_input": "2025-04-23T08:56:25.432114Z",
     "iopub.status.busy": "2025-04-23T08:56:25.431797Z",
     "iopub.status.idle": "2025-04-23T08:56:25.440112Z",
     "shell.execute_reply": "2025-04-23T08:56:25.438909Z",
     "shell.execute_reply.started": "2025-04-23T08:56:25.432080Z"
    },
    "trusted": true
   },
   "outputs": [],
   "source": [
    "# Calcola le predizioni per un set di dati\n",
    "def make_predictions(X, W1, b1, W2, b2):\n",
    "    _, _, _, A2 = forward_prop(W1, b1, W2, b2, X)\n",
    "    predictions = get_predictions(A2)\n",
    "    return predictions\n",
    "\n",
    "# Visualizza un'immagine e la predizione della rete\n",
    "def test_prediction(index, W1, b1, W2, b2):\n",
    "    current_image = X_train[:, index, None]\n",
    "    prediction = make_predictions(X_train[:, index, None], W1, b1, W2, b2)\n",
    "    label = Y_train[index]\n",
    "    print(\"Prediction: \", prediction)\n",
    "    print(\"Label: \", label)\n",
    "    \n",
    "    current_image = current_image.reshape((28, 28)) * 255\n",
    "    plt.gray()\n",
    "    plt.imshow(current_image, interpolation='nearest')\n",
    "    plt.show()"
   ]
  },
  {
   "cell_type": "markdown",
   "metadata": {},
   "source": [
    "Guardiamo un paio di esempi:"
   ]
  },
  {
   "cell_type": "code",
   "execution_count": 8,
   "metadata": {
    "execution": {
     "iopub.execute_input": "2025-04-23T08:56:25.441979Z",
     "iopub.status.busy": "2025-04-23T08:56:25.441627Z",
     "iopub.status.idle": "2025-04-23T08:56:26.056366Z",
     "shell.execute_reply": "2025-04-23T08:56:26.055325Z",
     "shell.execute_reply.started": "2025-04-23T08:56:25.441943Z"
    },
    "trusted": true
   },
   "outputs": [
    {
     "name": "stdout",
     "output_type": "stream",
     "text": [
      "Prediction:  [6]\n",
      "Label:  6\n"
     ]
    },
    {
     "data": {
      "image/png": "[encoded data removed]",
      "text/plain": [
       "<Figure size 640x480 with 1 Axes>"
      ]
     },
     "metadata": {},
     "output_type": "display_data"
    },
    {
     "name": "stdout",
     "output_type": "stream",
     "text": [
      "Prediction:  [1]\n",
      "Label:  1\n"
     ]
    },
    {
     "data": {
      "image/png": "[encoded data removed]",
      "text/plain": [
       "<Figure size 640x480 with 1 Axes>"
      ]
     },
     "metadata": {},
     "output_type": "display_data"
    },
    {
     "name": "stdout",
     "output_type": "stream",
     "text": [
      "Prediction:  [0]\n",
      "Label:  0\n"
     ]
    },
    {
     "data": {
      "image/png": "[encoded data removed]",
      "text/plain": [
       "<Figure size 640x480 with 1 Axes>"
      ]
     },
     "metadata": {},
     "output_type": "display_data"
    },
    {
     "name": "stdout",
     "output_type": "stream",
     "text": [
      "Prediction:  [1]\n",
      "Label:  1\n"
     ]
    },
    {
     "data": {
      "image/png": "[encoded data removed]",
      "text/plain": [
       "<Figure size 640x480 with 1 Axes>"
      ]
     },
     "metadata": {},
     "output_type": "display_data"
    }
   ],
   "source": [
    "test_prediction(0, W1, b1, W2, b2)\n",
    "test_prediction(1, W1, b1, W2, b2)\n",
    "test_prediction(2, W1, b1, W2, b2)\n",
    "test_prediction(3, W1, b1, W2, b2)"
   ]
  },
  {
   "cell_type": "markdown",
   "metadata": {},
   "source": [
    "##### 6. Valutazione sul set di sviluppo (dev set)\n",
    "Calcolo l'accuratezza della rete sul set di sviluppo per valutare la generalizzazione."
   ]
  },
  {
   "cell_type": "code",
   "execution_count": 9,
   "metadata": {
    "execution": {
     "iopub.execute_input": "2025-04-23T08:56:26.058345Z",
     "iopub.status.busy": "2025-04-23T08:56:26.057918Z",
     "iopub.status.idle": "2025-04-23T08:56:26.073529Z",
     "shell.execute_reply": "2025-04-23T08:56:26.072342Z",
     "shell.execute_reply.started": "2025-04-23T08:56:26.058269Z"
    },
    "trusted": true
   },
   "outputs": [
    {
     "name": "stdout",
     "output_type": "stream",
     "text": [
      "[4 3 2 6 3 1 3 2 6 4 7 9 7 6 5 2 6 8 6 6 1 5 9 2 3 1 4 9 0 0 4 7 6 3 4 3 9\n",
      " 5 7 1 7 6 1 8 1 2 6 9 4 8 9 6 5 8 1 4 8 8 6 4 1 8 4 8 9 0 5 2 2 8 6 0 3 1\n",
      " 6 4 8 0 6 3 0 3 1 6 5 5 9 4 6 8 6 0 6 5 7 5 7 8 6 7 0 9 2 5 8 3 7 6 7 2 2\n",
      " 1 3 5 8 3 4 7 5 8 8 6 4 5 7 5 2 8 1 6 4 6 8 0 3 6 1 8 9 3 7 7 7 9 7 7 3 0\n",
      " 7 3 4 7 8 6 7 4 1 9 0 6 6 9 9 6 6 3 4 3 7 4 4 8 4 6 8 5 9 4 1 1 1 3 0 3 6\n",
      " 9 7 9 1 1 3 1 1 5 0 9 2 1 0 0 4 3 2 7 2 3 8 1 8 2 1 5 1 4 6 6 1 1 6 1 3 6\n",
      " 1 8 5 3 7 9 8 9 8 1 1 6 1 1 1 4 1 0 5 9 8 6 9 0 6 0 7 1 0 9 8 4 1 5 7 2 8\n",
      " 6 6 0 8 0 2 9 1 1 8 4 1 5 2 5 0 1 7 3 9 1 2 1 6 6 1 0 6 1 3 1 7 3 8 6 2 0\n",
      " 5 1 5 4 2 9 7 1 8 0 1 6 1 3 0 4 6 7 0 6 9 9 4 9 9 6 2 7 1 2 4 6 0 3 0 6 7\n",
      " 7 2 2 7 4 7 4 1 1 7 4 0 2 4 0 8 3 9 2 8 1 7 6 3 5 0 0 2 9 7 2 6 1 1 2 6 0\n",
      " 3 1 1 2 1 3 5 2 0 6 7 2 4 2 7 7 5 0 3 5 3 9 1 5 0 7 0 1 3 9 2 8 1 0 0 9 1\n",
      " 5 5 2 7 6 7 9 4 2 9 9 7 8 1 8 2 3 0 6 7 0 9 8 5 8 7 8 0 9 3 8 2 1 6 2 0 9\n",
      " 1 5 7 0 3 8 4 2 9 9 4 6 3 1 6 4 5 9 6 3 5 9 7 3 5 2 1 7 4 3 9 9 2 1 4 6 9\n",
      " 1 3 9 7 2 1 6 4 4 4 1 2 9 4 0 1 6 7 9 4 1 9 9 4 1 8 1 1 3 9 2 1 5 7 2 4 1\n",
      " 4 4 1 1 2 1 7 3 7 8 3 9 7 0 3 2 4 5 1 4 6 2 9 3 0 8 5 2 1 0 1 5 6 5 3 6 5\n",
      " 0 7 9 5 0 7 2 9 3 7 1 5 3 1 7 3 2 8 8 4 6 8 7 5 3 4 1 3 6 0 9 8 9 3 0 0 1\n",
      " 7 2 4 6 0 7 9 1 6 5 2 0 3 0 9 0 4 3 0 9 6 4 0 0 3 4 0 1 3 8 8 1 6 4 2 5 7\n",
      " 2 3 3 1 6 5 2 4 8 2 3 9 7 3 6 3 2 7 7 7 9 5 5 4 4 5 0 0 3 6 5 0 9 9 9 1 0\n",
      " 8 4 1 4 2 8 4 4 6 5 5 1 3 1 7 2 3 2 9 8 3 3 4 3 4 3 4 7 3 3 9 3 6 5 2 8 5\n",
      " 3 1 7 2 9 4 6 1 2 0 1 2 1 7 7 2 9 1 1 5 9 8 7 1 2 3 1 4 1 6 1 6 4 6 9 2 5\n",
      " 8 5 2 7 8 4 1 6 0 3 9 1 0 7 1 7 9 3 1 6 0 0 8 4 1 8 8 9 4 3 0 6 9 7 2 8 1\n",
      " 5 9 6 6 5 6 3 4 7 1 2 2 9 6 5 8 7 0 3 6 0 0 8 7 9 8 7 7 1 0 6 7 7 0 4 2 7\n",
      " 2 3 4 9 3 3 9 5 7 3 2 8 0 5 8 9 8 8 8 8 1 1 0 4 2 9 8 1 4 0 7 2 4 6 1 9 4\n",
      " 0 1 4 1 3 4 5 0 0 7 0 6 8 7 1 5 9 7 1 4 2 0 8 8 1 1 5 6 7 2 7 9 7 1 5 1 9\n",
      " 9 4 9 0 9 6 6 0 0 6 4 7 8 2 5 6 8 7 9 3 7 9 4 2 4 2 6 8 1 0 4 5 8 6 1 6 6\n",
      " 9 6 7 9 7 7 0 2 5 3 5 9 6 8 1 8 4 4 4 9 3 5 1 2 2 4 6 2 9 4 8 1 0 7 6 6 0\n",
      " 5 6 8 8 8 8 9 1 1 3 0 8 3 8 4 6 9 6 1 9 7 7 4 6 5 0 2 6 2 8 6 4 1 3 4 2 7\n",
      " 0] [4 3 2 6 3 1 3 2 6 4 7 9 7 6 5 2 6 8 6 1 1 5 9 2 3 1 4 9 0 0 4 7 2 3 4 3 9\n",
      " 5 7 1 8 6 7 8 4 3 6 9 4 8 9 6 8 5 1 4 0 5 6 4 1 8 4 8 4 0 3 2 2 8 6 0 3 1\n",
      " 6 2 2 0 6 3 0 3 1 6 8 5 9 4 6 8 6 0 6 1 7 5 2 8 6 7 0 9 2 8 5 3 7 5 7 2 3\n",
      " 1 3 9 8 3 9 7 3 8 8 6 4 6 7 6 2 8 1 6 4 6 8 6 3 6 1 8 9 3 7 7 9 9 7 7 3 0\n",
      " 9 3 4 7 1 6 9 4 1 3 0 6 6 9 7 6 6 5 4 3 7 4 2 8 9 6 8 5 9 5 1 1 1 3 0 3 6\n",
      " 9 7 9 1 1 3 1 1 5 0 9 2 1 3 0 4 3 2 7 2 9 8 4 8 2 1 5 1 2 6 6 1 1 6 1 3 0\n",
      " 1 8 5 3 7 8 5 9 8 1 1 6 1 1 1 4 1 0 9 9 8 6 9 0 6 3 7 1 0 9 8 2 1 5 7 0 8\n",
      " 6 4 0 8 0 2 4 1 1 8 4 1 5 2 5 0 6 7 3 4 1 2 1 6 6 1 0 6 1 3 3 7 0 8 6 2 0\n",
      " 5 1 0 4 2 9 8 1 8 0 1 6 1 8 7 4 6 7 0 6 8 9 4 9 9 6 2 7 1 2 4 6 0 3 0 6 7\n",
      " 7 2 2 7 4 7 4 1 1 7 9 0 2 4 0 8 3 9 2 8 1 2 6 2 5 0 0 2 9 7 3 6 1 1 2 6 0\n",
      " 3 1 1 2 1 3 5 2 0 6 7 2 4 2 9 5 5 0 1 5 3 9 1 5 0 7 0 1 3 4 2 8 1 0 0 9 1\n",
      " 5 3 2 7 6 7 9 4 2 9 4 7 8 1 8 8 3 0 6 7 0 9 8 3 8 7 6 0 9 3 6 1 1 6 2 2 7\n",
      " 1 3 7 0 3 8 4 2 9 9 9 6 5 1 8 4 5 9 4 3 5 7 7 5 5 2 1 7 4 1 9 9 3 1 4 6 2\n",
      " 1 3 5 9 2 1 6 7 5 4 1 2 9 9 0 1 6 7 7 4 4 9 9 4 1 8 1 1 3 9 1 1 5 7 2 7 1\n",
      " 4 4 1 1 8 1 7 8 7 5 3 9 7 0 8 2 4 0 1 4 6 2 9 3 0 8 7 2 1 0 1 5 6 8 3 6 8\n",
      " 0 7 9 5 0 9 2 9 3 7 1 5 3 1 7 3 2 8 2 4 6 8 7 5 3 4 1 3 6 0 9 1 9 3 5 0 1\n",
      " 3 8 4 6 0 7 9 1 6 5 2 0 3 0 9 0 4 5 0 9 6 4 0 0 3 4 0 1 3 8 8 1 6 4 2 3 8\n",
      " 2 3 3 1 6 5 2 4 8 4 3 9 7 3 6 3 2 7 7 7 9 5 5 4 4 5 0 0 3 6 5 0 9 9 9 1 0\n",
      " 8 9 1 4 2 8 4 6 6 8 0 1 3 1 7 2 3 2 9 8 3 3 4 3 4 3 4 7 5 5 9 3 6 5 2 8 3\n",
      " 3 1 7 2 9 4 6 1 4 0 1 2 1 7 7 2 9 1 1 8 9 5 7 1 3 3 1 4 1 6 1 6 4 6 9 2 5\n",
      " 8 8 2 7 8 4 1 6 0 8 9 1 0 7 1 7 9 5 8 6 0 0 8 4 1 8 8 9 4 5 0 6 9 7 2 5 1\n",
      " 5 9 6 6 5 5 3 4 7 1 2 2 9 3 5 8 7 0 3 6 0 0 8 7 9 8 7 7 1 0 6 7 7 0 4 3 7\n",
      " 2 8 4 9 6 2 9 5 7 3 2 8 0 5 8 9 8 8 8 8 1 1 0 4 2 9 5 1 4 0 7 9 4 6 1 4 4\n",
      " 0 1 9 1 5 4 5 0 0 7 0 6 8 7 8 5 9 3 1 4 2 7 3 8 1 1 6 6 7 6 7 4 7 1 3 1 9\n",
      " 9 4 9 0 7 6 6 0 0 6 4 7 8 2 5 6 8 7 4 3 7 3 4 2 4 2 6 8 1 8 4 5 8 6 1 6 6\n",
      " 9 6 7 9 7 7 5 2 8 3 5 9 3 8 1 5 4 4 4 9 3 5 1 2 2 4 6 2 9 4 8 1 0 7 6 6 0\n",
      " 5 6 2 9 8 3 9 1 1 2 0 8 3 8 4 6 9 6 1 9 7 7 4 6 5 0 2 6 2 5 6 4 1 3 4 6 7\n",
      " 0]\n"
     ]
    },
    {
     "data": {
      "text/plain": [
       "np.float64(0.837)"
      ]
     },
     "execution_count": 9,
     "metadata": {},
     "output_type": "execute_result"
    }
   ],
   "source": [
    "dev_predictions = make_predictions(X_dev, W1, b1, W2, b2)\n",
    "get_accuracy(dev_predictions, Y_dev)"
   ]
  },
  {
   "cell_type": "markdown",
   "metadata": {},
   "source": [
    "84% accuracy, posso dire che la rete ha generalizzato piuttosto bene i dati di training."
   ]
  },
  {
   "cell_type": "markdown",
   "metadata": {},
   "source": [
    "##### 7. Predizione sul test set e salvataggio risultati\n",
    "Applico la rete ai dati di test e salvo le predizioni in un file CSV per la submission."
   ]
  },
  {
   "cell_type": "code",
   "execution_count": 10,
   "metadata": {},
   "outputs": [
    {
     "name": "stdout",
     "output_type": "stream",
     "text": [
      "Predictions saved to Submission.csv\n",
      "Number of test images: 28000\n",
      "\n",
      "First few predictions:\n",
      "   ImageId  Label\n",
      "0        1      2\n",
      "1        2      0\n",
      "2        3      9\n",
      "3        4      4\n",
      "4        5      2\n"
     ]
    }
   ],
   "source": [
    "# Carica e normalizza il test set\n",
    "test_data = pd.read_csv('test.csv')\n",
    "X_test = np.array(test_data)\n",
    "X_test = X_test / 255.  # Normalizza pixel\n",
    "\n",
    "# Predizioni sul test set\n",
    "_, _, _, A2_test = forward_prop(W1, b1, W2, b2, X_test.T)\n",
    "test_predictions = get_predictions(A2_test)\n",
    "\n",
    "# Crea il DataFrame per la submission\n",
    "submission = pd.DataFrame({\n",
    "    'ImageId': range(1, len(test_predictions) + 1),\n",
    "    'Label': test_predictions\n",
    "})\n",
    "\n",
    "# Salva le predizioni su file CSV\n",
    "submission.to_csv('Submission.csv', index=False)\n",
    "print(f'Predictions saved to Submission.csv')\n",
    "print(f'Number of test images: {len(test_predictions)}')\n",
    "print('\\nFirst few predictions:')\n",
    "print(submission.head())"
   ]
  },
  {
   "cell_type": "markdown",
   "metadata": {},
   "source": [
    "#### Schema della rete\n",
    "\n",
    "- **Input:** 784 neuroni (pixel)\n",
    "- **Hidden layer:** 10 neuroni, attivazione ReLU\n",
    "- **Output layer:** 10 neuroni, attivazione softmax (classi 0-9)\n",
    "\n",
    "Questa architettura semplice permette di classificare le cifre MNIST con una buona accuratezza, implementando tutto da zero senza librerie di deep learning avanzate."
   ]
  }
 ],
 "metadata": {
  "kaggle": {
   "accelerator": "none",
   "dataSources": [
    {
     "databundleVersionId": 861823,
     "sourceId": 3004,
     "sourceType": "competition"
    }
   ],
   "dockerImageVersionId": 30035,
   "isGpuEnabled": false,
   "isInternetEnabled": false,
   "language": "python",
   "sourceType": "notebook"
  },
  "kernelspec": {
   "display_name": "Python 3",
   "language": "python",
   "name": "python3"
  },
  "language_info": {
   "codemirror_mode": {
    "name": "ipython",
    "version": 3
   },
   "file_extension": ".py",
   "mimetype": "text/x-python",
   "name": "python",
   "nbconvert_exporter": "python",
   "pygments_lexer": "ipython3",
   "version": "3.13.3"
  }
 },
 "nbformat": 4,
 "nbformat_minor": 4
}
